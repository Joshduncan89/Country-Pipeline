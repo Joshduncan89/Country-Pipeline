{
 "cells": [
  {
   "cell_type": "code",
   "execution_count": 56,
   "metadata": {},
   "outputs": [],
   "source": [
    "import pyodbc\n",
    "import pandas as pd\n",
    "import numpy as np"
   ]
  },
  {
   "cell_type": "code",
   "execution_count": 57,
   "metadata": {},
   "outputs": [],
   "source": [
    "country_df = pd.read_csv('count_data.csv')\n",
    "wiki_df = pd.read_csv('wiki_data.csv', thousands=',')"
   ]
  },
  {
   "cell_type": "code",
   "execution_count": 58,
   "metadata": {},
   "outputs": [
    {
     "data": {
      "text/html": [
       "<div>\n",
       "<style scoped>\n",
       "    .dataframe tbody tr th:only-of-type {\n",
       "        vertical-align: middle;\n",
       "    }\n",
       "\n",
       "    .dataframe tbody tr th {\n",
       "        vertical-align: top;\n",
       "    }\n",
       "\n",
       "    .dataframe thead th {\n",
       "        text-align: right;\n",
       "    }\n",
       "</style>\n",
       "<table border=\"1\" class=\"dataframe\">\n",
       "  <thead>\n",
       "    <tr style=\"text-align: right;\">\n",
       "      <th></th>\n",
       "      <th>rank</th>\n",
       "      <th>country</th>\n",
       "      <th>bags</th>\n",
       "      <th>tons</th>\n",
       "      <th>pounds</th>\n",
       "    </tr>\n",
       "  </thead>\n",
       "  <tbody>\n",
       "    <tr>\n",
       "      <th>0</th>\n",
       "      <td>1</td>\n",
       "      <td>Brazil</td>\n",
       "      <td>44200000</td>\n",
       "      <td>2652000</td>\n",
       "      <td>5714381000</td>\n",
       "    </tr>\n",
       "    <tr>\n",
       "      <th>1</th>\n",
       "      <td>2</td>\n",
       "      <td>Vietnam</td>\n",
       "      <td>27500000</td>\n",
       "      <td>1650000</td>\n",
       "      <td>3637627000</td>\n",
       "    </tr>\n",
       "    <tr>\n",
       "      <th>2</th>\n",
       "      <td>3</td>\n",
       "      <td>Colombia</td>\n",
       "      <td>13500000</td>\n",
       "      <td>810000</td>\n",
       "      <td>1785744000</td>\n",
       "    </tr>\n",
       "    <tr>\n",
       "      <th>3</th>\n",
       "      <td>4</td>\n",
       "      <td>Indonesia</td>\n",
       "      <td>11000000</td>\n",
       "      <td>660000</td>\n",
       "      <td>1455050000</td>\n",
       "    </tr>\n",
       "    <tr>\n",
       "      <th>4</th>\n",
       "      <td>5</td>\n",
       "      <td>Honduras</td>\n",
       "      <td>9600000</td>\n",
       "      <td>580000</td>\n",
       "      <td>1278681000</td>\n",
       "    </tr>\n",
       "  </tbody>\n",
       "</table>\n",
       "</div>"
      ],
      "text/plain": [
       "   rank    country      bags     tons      pounds\n",
       "0     1     Brazil  44200000  2652000  5714381000\n",
       "1     2    Vietnam  27500000  1650000  3637627000\n",
       "2     3   Colombia  13500000   810000  1785744000\n",
       "3     4  Indonesia  11000000   660000  1455050000\n",
       "4     5   Honduras   9600000   580000  1278681000"
      ]
     },
     "execution_count": 58,
     "metadata": {},
     "output_type": "execute_result"
    }
   ],
   "source": [
    "wiki_df.head()"
   ]
  },
  {
   "cell_type": "code",
   "execution_count": 59,
   "metadata": {},
   "outputs": [
    {
     "data": {
      "text/plain": [
       "Index(['rank', 'country', 'bags', 'tons', 'pounds'], dtype='object')"
      ]
     },
     "execution_count": 59,
     "metadata": {},
     "output_type": "execute_result"
    }
   ],
   "source": [
    "wiki_df.columns"
   ]
  },
  {
   "cell_type": "code",
   "execution_count": 60,
   "metadata": {},
   "outputs": [],
   "source": [
    "conn = pyodbc.connect(\n",
    "    Trusted_Connection=\"Yes\",\n",
    "    Driver=\"{ODBC Driver 17 for SQL Server}\",\n",
    "    Server=\"LAPTOP-3ELSR0G0\\SQLEXPRESS\",\n",
    "    Database=\"Coffee\"\n",
    ")\n",
    "\n",
    "cursor = conn.cursor()"
   ]
  },
  {
   "cell_type": "code",
   "execution_count": null,
   "metadata": {},
   "outputs": [],
   "source": [
    "cursor.execute('''\n",
    "               CREATE TABLE Coffee_Data(\n",
    "                rank int, \n",
    "                country nvarchar(50) primary key, \n",
    "                bags int, \n",
    "                tons int, \n",
    "                pounds bigint\n",
    "               )\n",
    "               ''')\n",
    "conn.commit()"
   ]
  },
  {
   "cell_type": "code",
   "execution_count": 61,
   "metadata": {},
   "outputs": [
    {
     "name": "stdout",
     "output_type": "stream",
     "text": [
      "rank        int64\n",
      "country    object\n",
      "bags        int64\n",
      "tons        int64\n",
      "pounds      int64\n",
      "dtype: object\n"
     ]
    }
   ],
   "source": [
    "print(wiki_df.dtypes)"
   ]
  },
  {
   "cell_type": "code",
   "execution_count": 62,
   "metadata": {},
   "outputs": [
    {
     "name": "stdout",
     "output_type": "stream",
     "text": [
      "rank        int64\n",
      "country    object\n",
      "bags        Int64\n",
      "tons        Int64\n",
      "pounds      Int64\n",
      "dtype: object\n"
     ]
    }
   ],
   "source": [
    "columns_to_convert = ['bags', 'tons', 'pounds']\n",
    "\n",
    "def remove_quotes(value):\n",
    "\n",
    "    return str(value).strip('\"') if pd.notna(value) else value\n",
    "\n",
    "for col in columns_to_convert:\n",
    "\n",
    "    wiki_df[col] = wiki_df[col].apply(remove_quotes)\n",
    "    \n",
    "    wiki_df[col] = pd.to_numeric(wiki_df[col], errors='coerce').astype('Int64')\n",
    "\n",
    "print(wiki_df.dtypes)\n",
    "\n",
    "wiki_df.to_csv('wiki_data.csv', index=False)"
   ]
  },
  {
   "cell_type": "code",
   "execution_count": 64,
   "metadata": {},
   "outputs": [],
   "source": [
    "for row in wiki_df.itertuples():\n",
    "    cursor.execute(\n",
    "        '''INSERT INTO Coffee.dbo.Coffee_Data(rank, country, bags, tons, pounds)\n",
    "           VALUES (?,?,?,?,?)''',\n",
    "        row.rank,\n",
    "        row.country,\n",
    "        int(row.bags) if pd.notna(row.bags) else None,\n",
    "        int(row.tons) if pd.notna(row.tons) else None,\n",
    "        int(row.pounds) if pd.notna(row.pounds) else None\n",
    "    )\n",
    "\n",
    "conn.commit()"
   ]
  },
  {
   "cell_type": "code",
   "execution_count": null,
   "metadata": {},
   "outputs": [],
   "source": [
    "cursor.execute(\"SELECT * FROM Coffee.dbo.Coffee_Data\")\n",
    "\n",
    "rows = cursor.fetchall()\n",
    "\n",
    "for row in rows:\n",
    "    print(row)b"
   ]
  },
  {
   "cell_type": "code",
   "execution_count": 77,
   "metadata": {},
   "outputs": [],
   "source": [
    "count_df = pd.read_csv('count_data.csv')\n"
   ]
  },
  {
   "cell_type": "code",
   "execution_count": 78,
   "metadata": {},
   "outputs": [
    {
     "data": {
      "text/plain": [
       "Index(['country_name', 'country_capital', 'country_area',\n",
       "       'country_population'],\n",
       "      dtype='object')"
      ]
     },
     "execution_count": 78,
     "metadata": {},
     "output_type": "execute_result"
    }
   ],
   "source": [
    "count_df.columns"
   ]
  },
  {
   "cell_type": "code",
   "execution_count": 90,
   "metadata": {},
   "outputs": [],
   "source": [
    "cursor.execute('''\n",
    "               CREATE TABLE Country_Data(\n",
    "                country_name nvarchar(50) primary key, \n",
    "                country_capital nvarchar(50), \n",
    "                country_area float, \n",
    "                country_population int, \n",
    "               )\n",
    "               ''')\n",
    "conn.commit()"
   ]
  },
  {
   "cell_type": "code",
   "execution_count": 79,
   "metadata": {},
   "outputs": [
    {
     "data": {
      "text/plain": [
       "country_name           object\n",
       "country_capital        object\n",
       "country_area          float64\n",
       "country_population      int64\n",
       "dtype: object"
      ]
     },
     "execution_count": 79,
     "metadata": {},
     "output_type": "execute_result"
    }
   ],
   "source": [
    "count_df.dtypes"
   ]
  },
  {
   "cell_type": "code",
   "execution_count": 85,
   "metadata": {},
   "outputs": [],
   "source": [
    "count_df.loc[count_df['country_area'] == float('-inf'), \"country_area\"] = -1\n",
    "count_df.loc[count_df[\"country_area\"] == float('inf'), \"country_area\"] = 1"
   ]
  },
  {
   "cell_type": "code",
   "execution_count": 91,
   "metadata": {},
   "outputs": [],
   "source": [
    "for row in count_df.itertuples():\n",
    "    try:\n",
    "        country_capital = row.country_capital if pd.notna(row.country_capital) else ''\n",
    "\n",
    "        cursor.execute(\n",
    "            '''INSERT INTO Coffee.dbo.Country_Data(country_name, country_capital, country_area, country_population)\n",
    "               VALUES (?,?,?,?)''',\n",
    "            row.country_name,\n",
    "            country_capital,\n",
    "            row.country_area,\n",
    "            row.country_population\n",
    "        )\n",
    "    except ValueError as ve:\n",
    "\n",
    "        if 'E' in row.country_area:\n",
    "\n",
    "            scientific_notation_value = float(row.country_area)\n",
    "            \n",
    "            cursor.execute(\n",
    "                '''UPDATE Coffee.dbo.Country_Data SET country_area = ? WHERE country_name = ?''',\n",
    "                scientific_notation_value,\n",
    "                row.country_name\n",
    "            )\n",
    "        else:\n",
    "            print(f\"Error inserting data for {row.country_name}: {ve}\")\n",
    "    except Exception as e:\n",
    "        print(f\"Error inserting data for {row.country_name}: {e}\")\n",
    "\n",
    "conn.commit()"
   ]
  }
 ],
 "metadata": {
  "kernelspec": {
   "display_name": "Python 3",
   "language": "python",
   "name": "python3"
  },
  "language_info": {
   "codemirror_mode": {
    "name": "ipython",
    "version": 3
   },
   "file_extension": ".py",
   "mimetype": "text/x-python",
   "name": "python",
   "nbconvert_exporter": "python",
   "pygments_lexer": "ipython3",
   "version": "3.11.0"
  }
 },
 "nbformat": 4,
 "nbformat_minor": 2
}
