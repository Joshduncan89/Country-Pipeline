{
 "cells": [
  {
   "cell_type": "code",
   "execution_count": 53,
   "metadata": {},
   "outputs": [],
   "source": [
    "from selenium import webdriver\n",
    "from selenium.webdriver.common.by import By\n",
    "\n",
    "import pandas as pd\n",
    "import pyodbc"
   ]
  },
  {
   "cell_type": "code",
   "execution_count": 54,
   "metadata": {},
   "outputs": [],
   "source": [
    "driver = webdriver.Chrome()"
   ]
  },
  {
   "cell_type": "code",
   "execution_count": 55,
   "metadata": {},
   "outputs": [],
   "source": [
    "driver.get('https://scrapethissite.com/pages/simple')"
   ]
  },
  {
   "cell_type": "code",
   "execution_count": 56,
   "metadata": {},
   "outputs": [],
   "source": [
    "def get_names(item):\n",
    "\n",
    "    elems = driver.find_elements(By.CLASS_NAME, item)\n",
    "\n",
    "    text_list = []\n",
    "\n",
    "    for elem in elems:\n",
    "        text_list.append(elem.text)\n",
    "\n",
    "    return text_list"
   ]
  },
  {
   "cell_type": "code",
   "execution_count": 57,
   "metadata": {},
   "outputs": [],
   "source": [
    "count_names = get_names('country-name')\n",
    "count_capitals = get_names('country-capital')\n",
    "count_populations = get_names('country-population')\n",
    "count_areas = get_names('country-area')"
   ]
  },
  {
   "cell_type": "code",
   "execution_count": 58,
   "metadata": {},
   "outputs": [
    {
     "data": {
      "text/plain": [
       "'United Arab Emirates'"
      ]
     },
     "execution_count": 58,
     "metadata": {},
     "output_type": "execute_result"
    }
   ],
   "source": [
    "count_names[1]"
   ]
  },
  {
   "cell_type": "code",
   "execution_count": 59,
   "metadata": {},
   "outputs": [],
   "source": [
    "count_data = []\n",
    "\n",
    "for i, count in enumerate(count_names):\n",
    "    count_capital = count_capitals[i]\n",
    "    count_area = count_areas[i]\n",
    "    count_population = count_populations[i]\n",
    "\n",
    "    new_row = [count, count_capital, count_area, count_population]\n",
    "\n",
    "    count_data.append(new_row)"
   ]
  },
  {
   "cell_type": "code",
   "execution_count": 60,
   "metadata": {},
   "outputs": [],
   "source": [
    "scrape_df = pd.DataFrame(count_data, columns=['country_name', 'country_capital','country_area', 'country_population'])"
   ]
  },
  {
   "cell_type": "code",
   "execution_count": 61,
   "metadata": {},
   "outputs": [
    {
     "data": {
      "text/html": [
       "<div>\n",
       "<style scoped>\n",
       "    .dataframe tbody tr th:only-of-type {\n",
       "        vertical-align: middle;\n",
       "    }\n",
       "\n",
       "    .dataframe tbody tr th {\n",
       "        vertical-align: top;\n",
       "    }\n",
       "\n",
       "    .dataframe thead th {\n",
       "        text-align: right;\n",
       "    }\n",
       "</style>\n",
       "<table border=\"1\" class=\"dataframe\">\n",
       "  <thead>\n",
       "    <tr style=\"text-align: right;\">\n",
       "      <th></th>\n",
       "      <th>country_name</th>\n",
       "      <th>country_capital</th>\n",
       "      <th>country_area</th>\n",
       "      <th>country_population</th>\n",
       "    </tr>\n",
       "  </thead>\n",
       "  <tbody>\n",
       "    <tr>\n",
       "      <th>0</th>\n",
       "      <td>Andorra</td>\n",
       "      <td>Andorra la Vella</td>\n",
       "      <td>468.0</td>\n",
       "      <td>84000</td>\n",
       "    </tr>\n",
       "    <tr>\n",
       "      <th>1</th>\n",
       "      <td>United Arab Emirates</td>\n",
       "      <td>Abu Dhabi</td>\n",
       "      <td>82880.0</td>\n",
       "      <td>4975593</td>\n",
       "    </tr>\n",
       "    <tr>\n",
       "      <th>2</th>\n",
       "      <td>Afghanistan</td>\n",
       "      <td>Kabul</td>\n",
       "      <td>647500.0</td>\n",
       "      <td>29121286</td>\n",
       "    </tr>\n",
       "    <tr>\n",
       "      <th>3</th>\n",
       "      <td>Antigua and Barbuda</td>\n",
       "      <td>St. John's</td>\n",
       "      <td>443.0</td>\n",
       "      <td>86754</td>\n",
       "    </tr>\n",
       "    <tr>\n",
       "      <th>4</th>\n",
       "      <td>Anguilla</td>\n",
       "      <td>The Valley</td>\n",
       "      <td>102.0</td>\n",
       "      <td>13254</td>\n",
       "    </tr>\n",
       "  </tbody>\n",
       "</table>\n",
       "</div>"
      ],
      "text/plain": [
       "           country_name   country_capital country_area country_population\n",
       "0               Andorra  Andorra la Vella        468.0              84000\n",
       "1  United Arab Emirates         Abu Dhabi      82880.0            4975593\n",
       "2           Afghanistan             Kabul     647500.0           29121286\n",
       "3   Antigua and Barbuda        St. John's        443.0              86754\n",
       "4              Anguilla        The Valley        102.0              13254"
      ]
     },
     "execution_count": 61,
     "metadata": {},
     "output_type": "execute_result"
    }
   ],
   "source": [
    "scrape_df.head()"
   ]
  },
  {
   "cell_type": "code",
   "execution_count": 62,
   "metadata": {},
   "outputs": [
    {
     "data": {
      "text/html": [
       "<div>\n",
       "<style scoped>\n",
       "    .dataframe tbody tr th:only-of-type {\n",
       "        vertical-align: middle;\n",
       "    }\n",
       "\n",
       "    .dataframe tbody tr th {\n",
       "        vertical-align: top;\n",
       "    }\n",
       "\n",
       "    .dataframe thead th {\n",
       "        text-align: right;\n",
       "    }\n",
       "</style>\n",
       "<table border=\"1\" class=\"dataframe\">\n",
       "  <thead>\n",
       "    <tr style=\"text-align: right;\">\n",
       "      <th></th>\n",
       "      <th>country_name</th>\n",
       "      <th>country_capital</th>\n",
       "      <th>country_area</th>\n",
       "      <th>country_population</th>\n",
       "    </tr>\n",
       "  </thead>\n",
       "  <tbody>\n",
       "    <tr>\n",
       "      <th>245</th>\n",
       "      <td>Yemen</td>\n",
       "      <td>Sanaa</td>\n",
       "      <td>527970.0</td>\n",
       "      <td>23495361</td>\n",
       "    </tr>\n",
       "    <tr>\n",
       "      <th>246</th>\n",
       "      <td>Mayotte</td>\n",
       "      <td>Mamoudzou</td>\n",
       "      <td>374.0</td>\n",
       "      <td>159042</td>\n",
       "    </tr>\n",
       "    <tr>\n",
       "      <th>247</th>\n",
       "      <td>South Africa</td>\n",
       "      <td>Pretoria</td>\n",
       "      <td>1219912.0</td>\n",
       "      <td>49000000</td>\n",
       "    </tr>\n",
       "    <tr>\n",
       "      <th>248</th>\n",
       "      <td>Zambia</td>\n",
       "      <td>Lusaka</td>\n",
       "      <td>752614.0</td>\n",
       "      <td>13460305</td>\n",
       "    </tr>\n",
       "    <tr>\n",
       "      <th>249</th>\n",
       "      <td>Zimbabwe</td>\n",
       "      <td>Harare</td>\n",
       "      <td>390580.0</td>\n",
       "      <td>11651858</td>\n",
       "    </tr>\n",
       "  </tbody>\n",
       "</table>\n",
       "</div>"
      ],
      "text/plain": [
       "     country_name country_capital country_area country_population\n",
       "245         Yemen           Sanaa     527970.0           23495361\n",
       "246       Mayotte       Mamoudzou        374.0             159042\n",
       "247  South Africa        Pretoria    1219912.0           49000000\n",
       "248        Zambia          Lusaka     752614.0           13460305\n",
       "249      Zimbabwe          Harare     390580.0           11651858"
      ]
     },
     "execution_count": 62,
     "metadata": {},
     "output_type": "execute_result"
    }
   ],
   "source": [
    "scrape_df.tail()"
   ]
  },
  {
   "cell_type": "code",
   "execution_count": 63,
   "metadata": {},
   "outputs": [],
   "source": [
    "scrape_df.to_csv('count_data.csv',index=False)\n"
   ]
  },
  {
   "cell_type": "code",
   "execution_count": 64,
   "metadata": {},
   "outputs": [
    {
     "data": {
      "text/html": [
       "<div>\n",
       "<style scoped>\n",
       "    .dataframe tbody tr th:only-of-type {\n",
       "        vertical-align: middle;\n",
       "    }\n",
       "\n",
       "    .dataframe tbody tr th {\n",
       "        vertical-align: top;\n",
       "    }\n",
       "\n",
       "    .dataframe thead th {\n",
       "        text-align: right;\n",
       "    }\n",
       "</style>\n",
       "<table border=\"1\" class=\"dataframe\">\n",
       "  <thead>\n",
       "    <tr style=\"text-align: right;\">\n",
       "      <th></th>\n",
       "      <th>country_name</th>\n",
       "      <th>country_capital</th>\n",
       "      <th>country_area</th>\n",
       "      <th>country_population</th>\n",
       "    </tr>\n",
       "  </thead>\n",
       "  <tbody>\n",
       "    <tr>\n",
       "      <th>0</th>\n",
       "      <td>Andorra</td>\n",
       "      <td>Andorra la Vella</td>\n",
       "      <td>468.0</td>\n",
       "      <td>84000</td>\n",
       "    </tr>\n",
       "    <tr>\n",
       "      <th>1</th>\n",
       "      <td>United Arab Emirates</td>\n",
       "      <td>Abu Dhabi</td>\n",
       "      <td>82880.0</td>\n",
       "      <td>4975593</td>\n",
       "    </tr>\n",
       "    <tr>\n",
       "      <th>2</th>\n",
       "      <td>Afghanistan</td>\n",
       "      <td>Kabul</td>\n",
       "      <td>647500.0</td>\n",
       "      <td>29121286</td>\n",
       "    </tr>\n",
       "    <tr>\n",
       "      <th>3</th>\n",
       "      <td>Antigua and Barbuda</td>\n",
       "      <td>St. John's</td>\n",
       "      <td>443.0</td>\n",
       "      <td>86754</td>\n",
       "    </tr>\n",
       "    <tr>\n",
       "      <th>4</th>\n",
       "      <td>Anguilla</td>\n",
       "      <td>The Valley</td>\n",
       "      <td>102.0</td>\n",
       "      <td>13254</td>\n",
       "    </tr>\n",
       "    <tr>\n",
       "      <th>...</th>\n",
       "      <td>...</td>\n",
       "      <td>...</td>\n",
       "      <td>...</td>\n",
       "      <td>...</td>\n",
       "    </tr>\n",
       "    <tr>\n",
       "      <th>245</th>\n",
       "      <td>Yemen</td>\n",
       "      <td>Sanaa</td>\n",
       "      <td>527970.0</td>\n",
       "      <td>23495361</td>\n",
       "    </tr>\n",
       "    <tr>\n",
       "      <th>246</th>\n",
       "      <td>Mayotte</td>\n",
       "      <td>Mamoudzou</td>\n",
       "      <td>374.0</td>\n",
       "      <td>159042</td>\n",
       "    </tr>\n",
       "    <tr>\n",
       "      <th>247</th>\n",
       "      <td>South Africa</td>\n",
       "      <td>Pretoria</td>\n",
       "      <td>1219912.0</td>\n",
       "      <td>49000000</td>\n",
       "    </tr>\n",
       "    <tr>\n",
       "      <th>248</th>\n",
       "      <td>Zambia</td>\n",
       "      <td>Lusaka</td>\n",
       "      <td>752614.0</td>\n",
       "      <td>13460305</td>\n",
       "    </tr>\n",
       "    <tr>\n",
       "      <th>249</th>\n",
       "      <td>Zimbabwe</td>\n",
       "      <td>Harare</td>\n",
       "      <td>390580.0</td>\n",
       "      <td>11651858</td>\n",
       "    </tr>\n",
       "  </tbody>\n",
       "</table>\n",
       "<p>250 rows × 4 columns</p>\n",
       "</div>"
      ],
      "text/plain": [
       "             country_name   country_capital  country_area  country_population\n",
       "0                 Andorra  Andorra la Vella         468.0               84000\n",
       "1    United Arab Emirates         Abu Dhabi       82880.0             4975593\n",
       "2             Afghanistan             Kabul      647500.0            29121286\n",
       "3     Antigua and Barbuda        St. John's         443.0               86754\n",
       "4                Anguilla        The Valley         102.0               13254\n",
       "..                    ...               ...           ...                 ...\n",
       "245                 Yemen             Sanaa      527970.0            23495361\n",
       "246               Mayotte         Mamoudzou         374.0              159042\n",
       "247          South Africa          Pretoria     1219912.0            49000000\n",
       "248                Zambia            Lusaka      752614.0            13460305\n",
       "249              Zimbabwe            Harare      390580.0            11651858\n",
       "\n",
       "[250 rows x 4 columns]"
      ]
     },
     "execution_count": 64,
     "metadata": {},
     "output_type": "execute_result"
    }
   ],
   "source": [
    "pd.read_csv(\"count_data.csv\")"
   ]
  },
  {
   "cell_type": "code",
   "execution_count": 65,
   "metadata": {},
   "outputs": [],
   "source": [
    "driver.get('https://en.wikipedia.org/wiki/List_of_countries_by_coffee_production')"
   ]
  },
  {
   "cell_type": "code",
   "execution_count": 66,
   "metadata": {},
   "outputs": [],
   "source": [
    "country_elem = driver.find_element(By.XPATH, '//*[@id=\"mw-content-text\"]/div[1]/table/tbody/tr[1]')"
   ]
  },
  {
   "cell_type": "code",
   "execution_count": 67,
   "metadata": {},
   "outputs": [
    {
     "data": {
      "text/plain": [
       "['Rank', 'Country', '60', 'kilogram', 'bags', 'Metric', 'tons', 'Pounds']"
      ]
     },
     "execution_count": 67,
     "metadata": {},
     "output_type": "execute_result"
    }
   ],
   "source": [
    "country_elem.text.split(' ')"
   ]
  },
  {
   "cell_type": "code",
   "execution_count": 68,
   "metadata": {},
   "outputs": [],
   "source": [
    "data = []\n",
    "\n",
    "for x in range(2, 52):\n",
    "    country_elem = driver.find_element(By.XPATH, f'//*[@id=\"mw-content-text\"]/div[1]/table/tbody/tr[{x}]')\n",
    "    country_str_list = country_elem.text.split(' ')\n",
    "\n",
    "    # Handle specific cases where the country names are split\n",
    "    if country_str_list[1] == 'China(2013–14':\n",
    "        country_str_list[1] = 'China'\n",
    "        del country_str_list[2]\n",
    "    \n",
    "    elif country_str_list[1] == '60':\n",
    "        # Handle Ivory Coast\n",
    "        country_str_list[1] = '60 kilogram bags'\n",
    "        del country_str_list[2]\n",
    "        del country_str_list[2]\n",
    "    \n",
    "    elif country_str_list[1] == 'Ivory':\n",
    "        # Handle Ivory Coast\n",
    "        country_str_list[1] = 'Ivory Coast'\n",
    "        del country_str_list[2]\n",
    "\n",
    "    elif country_str_list[1] == 'Costa':\n",
    "        # Handle Costa Rica\n",
    "        country_str_list[1] = 'Costa Rica'\n",
    "        del country_str_list[2]\n",
    "\n",
    "    elif country_str_list[1] == 'Papua':\n",
    "        # Handle Papua New Guinea\n",
    "        country_str_list[1] = 'Papua New Guinea'\n",
    "        del country_str_list[2]\n",
    "        del country_str_list[2]\n",
    "\n",
    "    elif country_str_list[1] == 'El':\n",
    "        # Handle El Salvador\n",
    "        country_str_list[1] = 'El Salvador'\n",
    "        del country_str_list[2]\n",
    "\n",
    "    elif country_str_list[1] == 'Dominican':\n",
    "        # Handle Dominican Republic\n",
    "        country_str_list[1] = 'Dominican Republic'\n",
    "        del country_str_list[2]\n",
    "\n",
    "    elif country_str_list[1] == 'Democratic':\n",
    "        # Handle Democratic Republic of the Congo\n",
    "        country_str_list[1] = 'Democratic Republic of the Congo'\n",
    "        del country_str_list[2]\n",
    "        del country_str_list[2]\n",
    "        del country_str_list[2]\n",
    "        del country_str_list[2]\n",
    "\n",
    "    elif country_str_list[1] == 'Timor':\n",
    "        # Handle Timor-Leste\n",
    "        country_str_list[1] = 'Timor-Leste'\n",
    "        del country_str_list[2]\n",
    "\n",
    "    elif country_str_list[1] == 'Central':\n",
    "        # Handle Central African Republic\n",
    "        country_str_list[1] = 'Central African Republic'\n",
    "        del country_str_list[2]\n",
    "        del country_str_list[2]\n",
    "\n",
    "    elif country_str_list[1] == 'Sierra':\n",
    "        # Handle Sierra Leone\n",
    "        country_str_list[1] = 'Sierra Leone'\n",
    "        del country_str_list[2]\n",
    "\n",
    "    elif country_str_list[1] == 'Trinidad':\n",
    "        # Handle Trinidad and Tobago\n",
    "        country_str_list[1] = 'Trinidad and Tobago'\n",
    "        del country_str_list[2]\n",
    "        del country_str_list[2]\n",
    "\n",
    "    # Add more conditions for other specific cases as needed...\n",
    "\n",
    "    # Add the modified list to count_data\n",
    "    data.append(country_str_list)"
   ]
  },
  {
   "cell_type": "code",
   "execution_count": 69,
   "metadata": {},
   "outputs": [
    {
     "data": {
      "text/plain": [
       "[['1', 'Brazil', '44,200,000', '2,652,000', '5,714,381,000'],\n",
       " ['2', 'Vietnam', '27,500,000', '1,650,000', '3,637,627,000'],\n",
       " ['3', 'Colombia', '13,500,000', '810,000', '1,785,744,000'],\n",
       " ['4', 'Indonesia', '11,000,000', '660,000', '1,455,050,000'],\n",
       " ['5', 'Honduras', '9,600,000', '580,000', '1,278,681,000'],\n",
       " ['6', 'Ethiopia', '6,400,000', '384,000', '846,575,000'],\n",
       " ['7', 'India', '5,800,000', '348,000', '767,208,000'],\n",
       " ['8', 'Uganda', '4,800,000', '288,000', '634,931,000'],\n",
       " ['9', 'Mexico', '3,900,000', '234,000', '515,881,000'],\n",
       " ['10', 'Guatemala', '3,400,000', '204,000', '449,743,000'],\n",
       " ['11', 'Peru', '3,200,000', '192,000', '423,287,000'],\n",
       " ['12', 'Nicaragua', '2,200,000', '132,000', '291,010,000'],\n",
       " ['13', 'China', '1,947,000', '116,820', '257,544,000'],\n",
       " ['14', 'Ivory Coast', '1,800,000', '108,000', '238,099,000'],\n",
       " ['15', 'Costa Rica', '1,492,000', '89,520', '197,357,000'],\n",
       " ['16', 'Kenya', '833,000', '49,980', '110,187,000'],\n",
       " ['17', 'Papua New Guinea', '800,000', '48,000', '105,821,000'],\n",
       " ['18', 'Tanzania', '800,000', '48,000', '105,821,000'],\n",
       " ['19', 'El Salvador', '762,000', '45,720', '100,795,000'],\n",
       " ['20', 'Ecuador', '700,000', '42,000', '92,594,000'],\n",
       " ['21', 'Cameroon', '570,000', '34,200', '75,398,000'],\n",
       " ['22', 'Laos', '520,000', '31,200', '68,784,000'],\n",
       " ['23', 'Madagascar', '520,000', '31,200', '68,784,000'],\n",
       " ['24', 'Gabon', '500,000', '30,000', '66,138,000'],\n",
       " ['25', 'Thailand', '500,000', '30,000', '66,138,000'],\n",
       " ['26', 'Venezuela', '500,000', '30,000', '66,138,000'],\n",
       " ['27', 'Dominican Republic', '400,000', '24,000', '52,910,000'],\n",
       " ['28', 'Haiti', '350,000', '21,000', '46,297,000'],\n",
       " ['29', 'Democratic Republic of the Congo', '335,000', '20,100', '44,312,000'],\n",
       " ['30', 'Rwanda', '250,000', '15,000', '33,069,000'],\n",
       " ['31', 'Burundi', '200,000', '12,000', '26,455,000'],\n",
       " ['32', 'Philippines', '200,000', '12,000', '26,455,000'],\n",
       " ['33', 'Togo', '200,000', '12,000', '26,455,000'],\n",
       " ['34', 'Guinea', '160,000', '9,600', '21,164,000'],\n",
       " ['35', 'Yemen', '120,000', '7,200', '15,873,000'],\n",
       " ['36', 'Cuba', '100,000', '6,000', '13,227,000'],\n",
       " ['37', 'Panama', '100,000', '6,000', '13,227,000'],\n",
       " ['38', 'Bolivia', '90,000', '5,400', '11,904,000'],\n",
       " ['39', 'Timor-Leste', '80,000', '4,800', '10,582,000'],\n",
       " ['40', 'Central African Republic', '65,000', '3,900', '8,598,000'],\n",
       " ['41', 'Nigeria', '40,000', '2,400', '5,291,000'],\n",
       " ['42', 'Ghana', '37,000', '2,220', '4,894,000'],\n",
       " ['43', 'Sierra Leone', '36,000', '2,160', '4,761,000'],\n",
       " ['44', 'Angola', '35,000', '2,100', '4,629,000'],\n",
       " ['45', 'Jamaica', '21,000', '1,260', '2,777,000'],\n",
       " ['46', 'Paraguay', '20,000', '1,200', '2,645,000'],\n",
       " ['47', 'Malawi', '16,000', '960', '2,116,000'],\n",
       " ['48', 'Trinidad and Tobago', '12,000', '720', '1,587,000'],\n",
       " ['49', 'Zimbabwe', '10,000', '600', '1,322,000'],\n",
       " ['50', 'Liberia', '6,000', '360', '793,000']]"
      ]
     },
     "execution_count": 69,
     "metadata": {},
     "output_type": "execute_result"
    }
   ],
   "source": [
    "data"
   ]
  },
  {
   "cell_type": "code",
   "execution_count": 70,
   "metadata": {},
   "outputs": [],
   "source": [
    "wiki_header_list = ['rank', 'country', 'bags', 'tons', 'pounds']"
   ]
  },
  {
   "cell_type": "code",
   "execution_count": 71,
   "metadata": {},
   "outputs": [],
   "source": [
    "for row in data:\n",
    "    if len(row) > 5:\n",
    "        print(row)"
   ]
  },
  {
   "cell_type": "code",
   "execution_count": 72,
   "metadata": {},
   "outputs": [],
   "source": [
    "wiki_data = pd.DataFrame(data,columns=wiki_header_list)"
   ]
  },
  {
   "cell_type": "code",
   "execution_count": 73,
   "metadata": {},
   "outputs": [
    {
     "data": {
      "text/html": [
       "<div>\n",
       "<style scoped>\n",
       "    .dataframe tbody tr th:only-of-type {\n",
       "        vertical-align: middle;\n",
       "    }\n",
       "\n",
       "    .dataframe tbody tr th {\n",
       "        vertical-align: top;\n",
       "    }\n",
       "\n",
       "    .dataframe thead th {\n",
       "        text-align: right;\n",
       "    }\n",
       "</style>\n",
       "<table border=\"1\" class=\"dataframe\">\n",
       "  <thead>\n",
       "    <tr style=\"text-align: right;\">\n",
       "      <th></th>\n",
       "      <th>rank</th>\n",
       "      <th>country</th>\n",
       "      <th>bags</th>\n",
       "      <th>tons</th>\n",
       "      <th>pounds</th>\n",
       "    </tr>\n",
       "  </thead>\n",
       "  <tbody>\n",
       "    <tr>\n",
       "      <th>0</th>\n",
       "      <td>1</td>\n",
       "      <td>Brazil</td>\n",
       "      <td>44,200,000</td>\n",
       "      <td>2,652,000</td>\n",
       "      <td>5,714,381,000</td>\n",
       "    </tr>\n",
       "    <tr>\n",
       "      <th>1</th>\n",
       "      <td>2</td>\n",
       "      <td>Vietnam</td>\n",
       "      <td>27,500,000</td>\n",
       "      <td>1,650,000</td>\n",
       "      <td>3,637,627,000</td>\n",
       "    </tr>\n",
       "    <tr>\n",
       "      <th>2</th>\n",
       "      <td>3</td>\n",
       "      <td>Colombia</td>\n",
       "      <td>13,500,000</td>\n",
       "      <td>810,000</td>\n",
       "      <td>1,785,744,000</td>\n",
       "    </tr>\n",
       "    <tr>\n",
       "      <th>3</th>\n",
       "      <td>4</td>\n",
       "      <td>Indonesia</td>\n",
       "      <td>11,000,000</td>\n",
       "      <td>660,000</td>\n",
       "      <td>1,455,050,000</td>\n",
       "    </tr>\n",
       "    <tr>\n",
       "      <th>4</th>\n",
       "      <td>5</td>\n",
       "      <td>Honduras</td>\n",
       "      <td>9,600,000</td>\n",
       "      <td>580,000</td>\n",
       "      <td>1,278,681,000</td>\n",
       "    </tr>\n",
       "  </tbody>\n",
       "</table>\n",
       "</div>"
      ],
      "text/plain": [
       "  rank    country        bags       tons         pounds\n",
       "0    1     Brazil  44,200,000  2,652,000  5,714,381,000\n",
       "1    2    Vietnam  27,500,000  1,650,000  3,637,627,000\n",
       "2    3   Colombia  13,500,000    810,000  1,785,744,000\n",
       "3    4  Indonesia  11,000,000    660,000  1,455,050,000\n",
       "4    5   Honduras   9,600,000    580,000  1,278,681,000"
      ]
     },
     "execution_count": 73,
     "metadata": {},
     "output_type": "execute_result"
    }
   ],
   "source": [
    "wiki_data.head()"
   ]
  },
  {
   "cell_type": "code",
   "execution_count": 74,
   "metadata": {},
   "outputs": [
    {
     "data": {
      "text/html": [
       "<div>\n",
       "<style scoped>\n",
       "    .dataframe tbody tr th:only-of-type {\n",
       "        vertical-align: middle;\n",
       "    }\n",
       "\n",
       "    .dataframe tbody tr th {\n",
       "        vertical-align: top;\n",
       "    }\n",
       "\n",
       "    .dataframe thead th {\n",
       "        text-align: right;\n",
       "    }\n",
       "</style>\n",
       "<table border=\"1\" class=\"dataframe\">\n",
       "  <thead>\n",
       "    <tr style=\"text-align: right;\">\n",
       "      <th></th>\n",
       "      <th>rank</th>\n",
       "      <th>country</th>\n",
       "      <th>bags</th>\n",
       "      <th>tons</th>\n",
       "      <th>pounds</th>\n",
       "    </tr>\n",
       "  </thead>\n",
       "  <tbody>\n",
       "    <tr>\n",
       "      <th>45</th>\n",
       "      <td>46</td>\n",
       "      <td>Paraguay</td>\n",
       "      <td>20,000</td>\n",
       "      <td>1,200</td>\n",
       "      <td>2,645,000</td>\n",
       "    </tr>\n",
       "    <tr>\n",
       "      <th>46</th>\n",
       "      <td>47</td>\n",
       "      <td>Malawi</td>\n",
       "      <td>16,000</td>\n",
       "      <td>960</td>\n",
       "      <td>2,116,000</td>\n",
       "    </tr>\n",
       "    <tr>\n",
       "      <th>47</th>\n",
       "      <td>48</td>\n",
       "      <td>Trinidad and Tobago</td>\n",
       "      <td>12,000</td>\n",
       "      <td>720</td>\n",
       "      <td>1,587,000</td>\n",
       "    </tr>\n",
       "    <tr>\n",
       "      <th>48</th>\n",
       "      <td>49</td>\n",
       "      <td>Zimbabwe</td>\n",
       "      <td>10,000</td>\n",
       "      <td>600</td>\n",
       "      <td>1,322,000</td>\n",
       "    </tr>\n",
       "    <tr>\n",
       "      <th>49</th>\n",
       "      <td>50</td>\n",
       "      <td>Liberia</td>\n",
       "      <td>6,000</td>\n",
       "      <td>360</td>\n",
       "      <td>793,000</td>\n",
       "    </tr>\n",
       "  </tbody>\n",
       "</table>\n",
       "</div>"
      ],
      "text/plain": [
       "   rank              country    bags   tons     pounds\n",
       "45   46             Paraguay  20,000  1,200  2,645,000\n",
       "46   47               Malawi  16,000    960  2,116,000\n",
       "47   48  Trinidad and Tobago  12,000    720  1,587,000\n",
       "48   49             Zimbabwe  10,000    600  1,322,000\n",
       "49   50              Liberia   6,000    360    793,000"
      ]
     },
     "execution_count": 74,
     "metadata": {},
     "output_type": "execute_result"
    }
   ],
   "source": [
    "wiki_data.tail()"
   ]
  },
  {
   "cell_type": "code",
   "execution_count": 75,
   "metadata": {},
   "outputs": [],
   "source": [
    "wiki_data.to_csv('wiki_data.csv', index=False)"
   ]
  }
 ],
 "metadata": {
  "kernelspec": {
   "display_name": "Python 3",
   "language": "python",
   "name": "python3"
  },
  "language_info": {
   "codemirror_mode": {
    "name": "ipython",
    "version": 3
   },
   "file_extension": ".py",
   "mimetype": "text/x-python",
   "name": "python",
   "nbconvert_exporter": "python",
   "pygments_lexer": "ipython3",
   "version": "3.11.0"
  }
 },
 "nbformat": 4,
 "nbformat_minor": 2
}
