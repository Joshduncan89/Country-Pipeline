{
 "cells": [
  {
   "cell_type": "code",
   "execution_count": 11,
   "metadata": {},
   "outputs": [],
   "source": [
    "from selenium import webdriver\n",
    "from selenium.webdriver.common.by import By\n",
    "import pandas as pd"
   ]
  },
  {
   "cell_type": "code",
   "execution_count": 12,
   "metadata": {},
   "outputs": [],
   "source": [
    "driver = webdriver.Chrome()"
   ]
  },
  {
   "cell_type": "code",
   "execution_count": 13,
   "metadata": {},
   "outputs": [],
   "source": [
    "driver.get('https://scrapethissite.com/pages/simple')"
   ]
  },
  {
   "cell_type": "code",
   "execution_count": 14,
   "metadata": {},
   "outputs": [],
   "source": [
    "def get_names(item):\n",
    "\n",
    "    elems = driver.find_elements(By.CLASS_NAME, item)\n",
    "\n",
    "    text_list = []\n",
    "\n",
    "    for elem in elems:\n",
    "        text_list.append(elem.text)\n",
    "\n",
    "    return text_list"
   ]
  },
  {
   "cell_type": "code",
   "execution_count": 15,
   "metadata": {},
   "outputs": [],
   "source": [
    "count_names = get_names('country-name')\n",
    "count_capitals = get_names('country-capital')\n",
    "count_populations = get_names('country-population')\n",
    "count_areas = get_names('country-area')"
   ]
  },
  {
   "cell_type": "code",
   "execution_count": 16,
   "metadata": {},
   "outputs": [
    {
     "data": {
      "text/plain": [
       "'United Arab Emirates'"
      ]
     },
     "execution_count": 16,
     "metadata": {},
     "output_type": "execute_result"
    }
   ],
   "source": [
    "count_names[1]"
   ]
  },
  {
   "cell_type": "code",
   "execution_count": 17,
   "metadata": {},
   "outputs": [],
   "source": [
    "count_data = []\n",
    "\n",
    "for i, count in enumerate(count_names):\n",
    "    count_capital = count_capitals[i]\n",
    "    count_area = count_areas[i]\n",
    "    count_population = count_populations[i]\n",
    "\n",
    "    new_row = [count, count_capital, count_area, count_population]\n",
    "\n",
    "    count_data.append(new_row)"
   ]
  },
  {
   "cell_type": "code",
   "execution_count": 23,
   "metadata": {},
   "outputs": [],
   "source": [
    "df = pd.DataFrame(count_data, columns=['country_name', 'country_capital','country_area', 'country_population'])"
   ]
  },
  {
   "cell_type": "code",
   "execution_count": 24,
   "metadata": {},
   "outputs": [
    {
     "data": {
      "text/html": [
       "<div>\n",
       "<style scoped>\n",
       "    .dataframe tbody tr th:only-of-type {\n",
       "        vertical-align: middle;\n",
       "    }\n",
       "\n",
       "    .dataframe tbody tr th {\n",
       "        vertical-align: top;\n",
       "    }\n",
       "\n",
       "    .dataframe thead th {\n",
       "        text-align: right;\n",
       "    }\n",
       "</style>\n",
       "<table border=\"1\" class=\"dataframe\">\n",
       "  <thead>\n",
       "    <tr style=\"text-align: right;\">\n",
       "      <th></th>\n",
       "      <th>country_name</th>\n",
       "      <th>country_capital</th>\n",
       "      <th>country_area</th>\n",
       "      <th>country_population</th>\n",
       "    </tr>\n",
       "  </thead>\n",
       "  <tbody>\n",
       "    <tr>\n",
       "      <th>0</th>\n",
       "      <td>Andorra</td>\n",
       "      <td>Andorra la Vella</td>\n",
       "      <td>468.0</td>\n",
       "      <td>84000</td>\n",
       "    </tr>\n",
       "    <tr>\n",
       "      <th>1</th>\n",
       "      <td>United Arab Emirates</td>\n",
       "      <td>Abu Dhabi</td>\n",
       "      <td>82880.0</td>\n",
       "      <td>4975593</td>\n",
       "    </tr>\n",
       "    <tr>\n",
       "      <th>2</th>\n",
       "      <td>Afghanistan</td>\n",
       "      <td>Kabul</td>\n",
       "      <td>647500.0</td>\n",
       "      <td>29121286</td>\n",
       "    </tr>\n",
       "    <tr>\n",
       "      <th>3</th>\n",
       "      <td>Antigua and Barbuda</td>\n",
       "      <td>St. John's</td>\n",
       "      <td>443.0</td>\n",
       "      <td>86754</td>\n",
       "    </tr>\n",
       "    <tr>\n",
       "      <th>4</th>\n",
       "      <td>Anguilla</td>\n",
       "      <td>The Valley</td>\n",
       "      <td>102.0</td>\n",
       "      <td>13254</td>\n",
       "    </tr>\n",
       "  </tbody>\n",
       "</table>\n",
       "</div>"
      ],
      "text/plain": [
       "           country_name   country_capital country_area country_population\n",
       "0               Andorra  Andorra la Vella        468.0              84000\n",
       "1  United Arab Emirates         Abu Dhabi      82880.0            4975593\n",
       "2           Afghanistan             Kabul     647500.0           29121286\n",
       "3   Antigua and Barbuda        St. John's        443.0              86754\n",
       "4              Anguilla        The Valley        102.0              13254"
      ]
     },
     "execution_count": 24,
     "metadata": {},
     "output_type": "execute_result"
    }
   ],
   "source": [
    "df.head()"
   ]
  },
  {
   "cell_type": "code",
   "execution_count": 25,
   "metadata": {},
   "outputs": [
    {
     "data": {
      "text/html": [
       "<div>\n",
       "<style scoped>\n",
       "    .dataframe tbody tr th:only-of-type {\n",
       "        vertical-align: middle;\n",
       "    }\n",
       "\n",
       "    .dataframe tbody tr th {\n",
       "        vertical-align: top;\n",
       "    }\n",
       "\n",
       "    .dataframe thead th {\n",
       "        text-align: right;\n",
       "    }\n",
       "</style>\n",
       "<table border=\"1\" class=\"dataframe\">\n",
       "  <thead>\n",
       "    <tr style=\"text-align: right;\">\n",
       "      <th></th>\n",
       "      <th>country_name</th>\n",
       "      <th>country_capital</th>\n",
       "      <th>country_area</th>\n",
       "      <th>country_population</th>\n",
       "    </tr>\n",
       "  </thead>\n",
       "  <tbody>\n",
       "    <tr>\n",
       "      <th>245</th>\n",
       "      <td>Yemen</td>\n",
       "      <td>Sanaa</td>\n",
       "      <td>527970.0</td>\n",
       "      <td>23495361</td>\n",
       "    </tr>\n",
       "    <tr>\n",
       "      <th>246</th>\n",
       "      <td>Mayotte</td>\n",
       "      <td>Mamoudzou</td>\n",
       "      <td>374.0</td>\n",
       "      <td>159042</td>\n",
       "    </tr>\n",
       "    <tr>\n",
       "      <th>247</th>\n",
       "      <td>South Africa</td>\n",
       "      <td>Pretoria</td>\n",
       "      <td>1219912.0</td>\n",
       "      <td>49000000</td>\n",
       "    </tr>\n",
       "    <tr>\n",
       "      <th>248</th>\n",
       "      <td>Zambia</td>\n",
       "      <td>Lusaka</td>\n",
       "      <td>752614.0</td>\n",
       "      <td>13460305</td>\n",
       "    </tr>\n",
       "    <tr>\n",
       "      <th>249</th>\n",
       "      <td>Zimbabwe</td>\n",
       "      <td>Harare</td>\n",
       "      <td>390580.0</td>\n",
       "      <td>11651858</td>\n",
       "    </tr>\n",
       "  </tbody>\n",
       "</table>\n",
       "</div>"
      ],
      "text/plain": [
       "     country_name country_capital country_area country_population\n",
       "245         Yemen           Sanaa     527970.0           23495361\n",
       "246       Mayotte       Mamoudzou        374.0             159042\n",
       "247  South Africa        Pretoria    1219912.0           49000000\n",
       "248        Zambia          Lusaka     752614.0           13460305\n",
       "249      Zimbabwe          Harare     390580.0           11651858"
      ]
     },
     "execution_count": 25,
     "metadata": {},
     "output_type": "execute_result"
    }
   ],
   "source": [
    "df.tail()"
   ]
  },
  {
   "cell_type": "code",
   "execution_count": 26,
   "metadata": {},
   "outputs": [],
   "source": [
    "driver.get('https://en.wikipedia.org/wiki/List_of_countries_by_coffee_production')"
   ]
  },
  {
   "cell_type": "code",
   "execution_count": 28,
   "metadata": {},
   "outputs": [],
   "source": [
    "country_elem = driver.find_element(By.XPATH, '//*[@id=\"mw-content-text\"]/div[1]/table/tbody/tr[1]')"
   ]
  },
  {
   "cell_type": "code",
   "execution_count": 31,
   "metadata": {},
   "outputs": [
    {
     "data": {
      "text/plain": [
       "['1', 'Brazil', '44,200,000', '2,652,000', '5,714,381,000']"
      ]
     },
     "execution_count": 31,
     "metadata": {},
     "output_type": "execute_result"
    }
   ],
   "source": [
    "country_elem.text.split(' ')"
   ]
  },
  {
   "cell_type": "code",
   "execution_count": 50,
   "metadata": {},
   "outputs": [],
   "source": [
    "data = []\n",
    "\n",
    "for x in range(1, 52):\n",
    "    country_elem = driver.find_element(By.XPATH, f'//*[@id=\"mw-content-text\"]/div[1]/table/tbody/tr[{x}]')\n",
    "    country_str_list = country_elem.text.split(' ')\n",
    "\n",
    "    # Handle specific cases where the country names are split\n",
    "    if country_str_list[1] == 'China(2013–14':\n",
    "        country_str_list[1] = 'China'\n",
    "        del country_str_list[2]\n",
    "    \n",
    "    elif country_str_list[1] == 'Ivory':\n",
    "        # Handle Ivory Coast\n",
    "        country_str_list[1] = 'Ivory Coast'\n",
    "        del country_str_list[2]\n",
    "\n",
    "    elif country_str_list[1] == 'Costa':\n",
    "        # Handle Costa Rica\n",
    "        country_str_list[1] = 'Costa Rica'\n",
    "        del country_str_list[2]\n",
    "\n",
    "    elif country_str_list[1] == 'Papua':\n",
    "        # Handle Papua New Guinea\n",
    "        country_str_list[1] = 'Papua New Guinea'\n",
    "        del country_str_list[2]\n",
    "        del country_str_list[2]\n",
    "\n",
    "    elif country_str_list[1] == 'El':\n",
    "        # Handle El Salvador\n",
    "        country_str_list[1] = 'El Salvador'\n",
    "        del country_str_list[2]\n",
    "\n",
    "    elif country_str_list[1] == 'Dominican':\n",
    "        # Handle Dominican Republic\n",
    "        country_str_list[1] = 'Dominican Republic'\n",
    "        del country_str_list[2]\n",
    "\n",
    "    elif country_str_list[1] == 'Democratic':\n",
    "        # Handle Democratic Republic of the Congo\n",
    "        country_str_list[1] = 'Democratic Republic of the Congo'\n",
    "        del country_str_list[2]\n",
    "        del country_str_list[2]\n",
    "        del country_str_list[2]\n",
    "        del country_str_list[2]\n",
    "\n",
    "    elif country_str_list[1] == 'Timor':\n",
    "        # Handle Timor-Leste\n",
    "        country_str_list[1] = 'Timor-Leste'\n",
    "        del country_str_list[2]\n",
    "\n",
    "    elif country_str_list[1] == 'Central':\n",
    "        # Handle Central African Republic\n",
    "        country_str_list[1] = 'Central African Republic'\n",
    "        del country_str_list[2]\n",
    "        del country_str_list[2]\n",
    "\n",
    "    elif country_str_list[1] == 'Sierra':\n",
    "        # Handle Sierra Leone\n",
    "        country_str_list[1] = 'Sierra Leone'\n",
    "        del country_str_list[2]\n",
    "\n",
    "    elif country_str_list[1] == 'Trinidad':\n",
    "        # Handle Trinidad and Tobago\n",
    "        country_str_list[1] = 'Trinidad and Tobago'\n",
    "        del country_str_list[2]\n",
    "        del country_str_list[2]\n",
    "\n",
    "    # Add more conditions for other specific cases as needed...\n",
    "\n",
    "    # Add the modified list to count_data\n",
    "    data.append(country_str_list)"
   ]
  },
  {
   "cell_type": "code",
   "execution_count": 51,
   "metadata": {},
   "outputs": [],
   "source": [
    "wiki_header_list = ['rank', 'country', 'bags', 'tons', 'pounds']"
   ]
  },
  {
   "cell_type": "code",
   "execution_count": 52,
   "metadata": {},
   "outputs": [],
   "source": [
    "for row in data:\n",
    "    if len(row) > 5:\n",
    "        print(row)"
   ]
  },
  {
   "cell_type": "code",
   "execution_count": 53,
   "metadata": {},
   "outputs": [],
   "source": [
    "wiki_data = pd.DataFrame(data,columns=wiki_header_list)"
   ]
  },
  {
   "cell_type": "code",
   "execution_count": 54,
   "metadata": {},
   "outputs": [
    {
     "data": {
      "text/html": [
       "<div>\n",
       "<style scoped>\n",
       "    .dataframe tbody tr th:only-of-type {\n",
       "        vertical-align: middle;\n",
       "    }\n",
       "\n",
       "    .dataframe tbody tr th {\n",
       "        vertical-align: top;\n",
       "    }\n",
       "\n",
       "    .dataframe thead th {\n",
       "        text-align: right;\n",
       "    }\n",
       "</style>\n",
       "<table border=\"1\" class=\"dataframe\">\n",
       "  <thead>\n",
       "    <tr style=\"text-align: right;\">\n",
       "      <th></th>\n",
       "      <th>rank</th>\n",
       "      <th>country</th>\n",
       "      <th>bags</th>\n",
       "      <th>tons</th>\n",
       "      <th>pounds</th>\n",
       "    </tr>\n",
       "  </thead>\n",
       "  <tbody>\n",
       "    <tr>\n",
       "      <th>0</th>\n",
       "      <td>1</td>\n",
       "      <td>Brazil</td>\n",
       "      <td>44,200,000</td>\n",
       "      <td>2,652,000</td>\n",
       "      <td>5,714,381,000</td>\n",
       "    </tr>\n",
       "    <tr>\n",
       "      <th>1</th>\n",
       "      <td>2</td>\n",
       "      <td>Vietnam</td>\n",
       "      <td>27,500,000</td>\n",
       "      <td>1,650,000</td>\n",
       "      <td>3,637,627,000</td>\n",
       "    </tr>\n",
       "    <tr>\n",
       "      <th>2</th>\n",
       "      <td>3</td>\n",
       "      <td>Colombia</td>\n",
       "      <td>13,500,000</td>\n",
       "      <td>810,000</td>\n",
       "      <td>1,785,744,000</td>\n",
       "    </tr>\n",
       "    <tr>\n",
       "      <th>3</th>\n",
       "      <td>4</td>\n",
       "      <td>Indonesia</td>\n",
       "      <td>11,000,000</td>\n",
       "      <td>660,000</td>\n",
       "      <td>1,455,050,000</td>\n",
       "    </tr>\n",
       "    <tr>\n",
       "      <th>4</th>\n",
       "      <td>5</td>\n",
       "      <td>Honduras</td>\n",
       "      <td>9,600,000</td>\n",
       "      <td>580,000</td>\n",
       "      <td>1,278,681,000</td>\n",
       "    </tr>\n",
       "  </tbody>\n",
       "</table>\n",
       "</div>"
      ],
      "text/plain": [
       "  rank    country        bags       tons         pounds\n",
       "0    1     Brazil  44,200,000  2,652,000  5,714,381,000\n",
       "1    2    Vietnam  27,500,000  1,650,000  3,637,627,000\n",
       "2    3   Colombia  13,500,000    810,000  1,785,744,000\n",
       "3    4  Indonesia  11,000,000    660,000  1,455,050,000\n",
       "4    5   Honduras   9,600,000    580,000  1,278,681,000"
      ]
     },
     "execution_count": 54,
     "metadata": {},
     "output_type": "execute_result"
    }
   ],
   "source": [
    "wiki_data.head()"
   ]
  }
 ],
 "metadata": {
  "kernelspec": {
   "display_name": "Python 3",
   "language": "python",
   "name": "python3"
  },
  "language_info": {
   "codemirror_mode": {
    "name": "ipython",
    "version": 3
   },
   "file_extension": ".py",
   "mimetype": "text/x-python",
   "name": "python",
   "nbconvert_exporter": "python",
   "pygments_lexer": "ipython3",
   "version": "3.11.0"
  }
 },
 "nbformat": 4,
 "nbformat_minor": 2
}
